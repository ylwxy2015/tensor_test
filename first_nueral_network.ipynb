{
 "cells": [
  {
   "cell_type": "code",
   "execution_count": 1,
   "metadata": {
    "collapsed": true
   },
   "outputs": [],
   "source": [
    "import tensorflow as tf\n",
    "import numpy as np"
   ]
  },
  {
   "cell_type": "code",
   "execution_count": 13,
   "metadata": {
    "collapsed": true
   },
   "outputs": [],
   "source": [
    "x_data=np.linspace(-1,1,200)[:,np.newaxis]\n",
    "noise=np.random.normal(0,0.05,x_data.shape)\n",
    "y_data=np.square(x_data)+noise"
   ]
  },
  {
   "cell_type": "code",
   "execution_count": 7,
   "metadata": {
    "collapsed": true
   },
   "outputs": [],
   "source": [
    "def add_layer(X,inputs,outputs,activation_function=None):\n",
    "    Weight=tf.Variable(tf.random_normal([inputs,outputs]))\n",
    "    Biases=tf.Variable(tf.zeros([1,outputs]))\n",
    "    Wx_plus_B=tf.matmul(X,Weight)+Biases\n",
    "    if activation_function is None:\n",
    "        result=Wx_plus_B\n",
    "    else:\n",
    "        result=activation_function(Wx_plus_B)\n",
    "    return result"
   ]
  },
  {
   "cell_type": "code",
   "execution_count": 5,
   "metadata": {
    "collapsed": true
   },
   "outputs": [],
   "source": [
    "X=tf.placeholder(tf.float32,[None,1])\n",
    "Y=tf.placeholder(tf.float32,[None,1])"
   ]
  },
  {
   "cell_type": "code",
   "execution_count": 8,
   "metadata": {
    "collapsed": true
   },
   "outputs": [],
   "source": [
    "l1=add_layer(X,1,10,tf.nn.relu)\n",
    "l2=add_layer(l1,10,1)"
   ]
  },
  {
   "cell_type": "code",
   "execution_count": 22,
   "metadata": {
    "collapsed": true
   },
   "outputs": [],
   "source": [
    "l3=add_layer(X,1,10,tf.nn.relu)\n",
    "l4=add_layer(l1,10,1)"
   ]
  },
  {
   "cell_type": "code",
   "execution_count": 9,
   "metadata": {
    "collapsed": true
   },
   "outputs": [],
   "source": [
    "loss=tf.reduce_mean(tf.square(Y-l2))"
   ]
  },
  {
   "cell_type": "code",
   "execution_count": 23,
   "metadata": {
    "collapsed": true
   },
   "outputs": [],
   "source": [
    "loss2=tf.reduce_mean(tf.square(Y-l4))"
   ]
  },
  {
   "cell_type": "code",
   "execution_count": 10,
   "metadata": {
    "collapsed": true
   },
   "outputs": [],
   "source": [
    "train=tf.train.GradientDescentOptimizer(0.1).minimize(loss)"
   ]
  },
  {
   "cell_type": "code",
   "execution_count": 24,
   "metadata": {
    "collapsed": true
   },
   "outputs": [],
   "source": [
    "train2=tf.train.GradientDescentOptimizer(0.1).minimize(loss2)"
   ]
  },
  {
   "cell_type": "code",
   "execution_count": 26,
   "metadata": {
    "collapsed": true
   },
   "outputs": [],
   "source": [
    "init=tf.global_variables_initializer()\n",
    "sess=tf.Session()\n",
    "sess.run(init)"
   ]
  },
  {
   "cell_type": "code",
   "execution_count": 14,
   "metadata": {},
   "outputs": [
    {
     "name": "stdout",
     "output_type": "stream",
     "text": [
      "0.0372605\n",
      "0.00689755\n",
      "0.0052465\n",
      "0.00474402\n",
      "0.00437222\n",
      "0.00408074\n",
      "0.00388126\n",
      "0.00371618\n",
      "0.00359911\n",
      "0.00351174\n",
      "0.00345571\n",
      "0.00341219\n",
      "0.0033806\n",
      "0.00335661\n",
      "0.00333145\n",
      "0.00331473\n",
      "0.00330486\n",
      "0.00329685\n",
      "0.00328974\n",
      "0.00328349\n"
     ]
    }
   ],
   "source": [
    "for i in range(1000):\n",
    "    sess.run(train,{X:x_data,Y:y_data})\n",
    "    if i%50==0:\n",
    "        print(sess.run(loss,{X:x_data,Y:y_data}))"
   ]
  },
  {
   "cell_type": "code",
   "execution_count": 27,
   "metadata": {},
   "outputs": [
    {
     "name": "stdout",
     "output_type": "stream",
     "text": [
      "0.267292\n",
      "0.359334\n",
      "0.3797\n",
      "0.393249\n",
      "0.405722\n",
      "0.415035\n",
      "0.415828\n",
      "0.409463\n",
      "0.399945\n",
      "0.389518\n",
      "0.378558\n",
      "0.368708\n",
      "0.360801\n",
      "0.354249\n",
      "0.347631\n",
      "0.342029\n",
      "0.337564\n",
      "0.333827\n",
      "0.331102\n",
      "0.329139\n"
     ]
    }
   ],
   "source": [
    "for i in range(1000):\n",
    "    sess.run(train2,{X:x_data,Y:y_data})\n",
    "    if i%50==0:\n",
    "        print(sess.run(loss,{X:x_data,Y:y_data}))"
   ]
  },
  {
   "cell_type": "code",
   "execution_count": 15,
   "metadata": {},
   "outputs": [
    {
     "data": {
      "image/png": "[encoded data removed]",
      "text/plain": [
       "<matplotlib.figure.Figure at 0x115867630>"
      ]
     },
     "metadata": {},
     "output_type": "display_data"
    }
   ],
   "source": [
    "import matplotlib.pyplot as plt\n",
    "fig = plt.figure()\n",
    "ax = fig.add_subplot(1,1,1)\n",
    "ax.scatter(x_data, y_data)\n",
    "plt.ion()\n",
    "plt.show()"
   ]
  },
  {
   "cell_type": "code",
   "execution_count": 18,
   "metadata": {},
   "outputs": [],
   "source": [
    "for i in range(1000):\n",
    "    # training\n",
    "    sess.run(train, feed_dict={X: x_data, Y: y_data})\n",
    "    if i % 50 == 0:\n",
    "        # to visualize the result and improvement\n",
    "        try:\n",
    "            ax.lines.remove(lines[0])\n",
    "        except Exception:\n",
    "            pass\n",
    "        prediction_value = sess.run(l2, feed_dict={X: x_data})\n",
    "        # plot the prediction\n",
    "        lines = ax.plot(x_data, prediction_value, 'r-', lw=5)\n",
    "        plt.pause(0.1)"
   ]
  }
 ],
 "metadata": {
  "kernelspec": {
   "display_name": "Python 3",
   "language": "python",
   "name": "python3"
  },
  "language_info": {
   "codemirror_mode": {
    "name": "ipython",
    "version": 3
   },
   "file_extension": ".py",
   "mimetype": "text/x-python",
   "name": "python",
   "nbconvert_exporter": "python",
   "pygments_lexer": "ipython3",
   "version": "3.6.1"
  }
 },
 "nbformat": 4,
 "nbformat_minor": 2
}
